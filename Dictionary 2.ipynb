{
 "cells": [
  {
   "cell_type": "code",
   "execution_count": null,
   "metadata": {},
   "outputs": [],
   "source": [
    "#Write a program to read through the mbox-short.txt and figure out the distribution by hour of the day for each of the messages.\\\n",
    "#You can pull the hour out from the 'From ' line by finding the time and then splitting the string a second time using a colon.\n",
    "#From stephen.marquard@uct.ac.za Sat Jan  5 09:14:16 2008\n",
    "#Once you have accumulated the counts for each hour, print out the counts, sorted by hour as shown below.\n",
    "\n",
    "\n",
    "name = input(\"Enter file:\")\n",
    "if len(name) < 1 : name = \"mbox-short.txt\"\n",
    "handle = open(name)\n",
    "\n",
    "\n",
    "count = dict()\n",
    "\n",
    "for line in handle:\n",
    "    if not line.startswith('From '):\n",
    "        continue\n",
    "    line = line.rstrip()\n",
    "    words = line.split()\n",
    "    time = words[5].split(':')\n",
    "    hour = (time[0])\n",
    "    count[hour] = count.get(hour,0)+1\n",
    "\n",
    "lst = list()\n",
    "\n",
    "for k, v in count.items():\n",
    "    lst.append((k,v))\n",
    "\n",
    "lst.sort()\n",
    "\n",
    "for k,v in lst:\n",
    "    print(k,v)"
   ]
  }
 ],
 "metadata": {
  "kernelspec": {
   "display_name": "Python 3",
   "language": "python",
   "name": "python3"
  },
  "language_info": {
   "codemirror_mode": {
    "name": "ipython",
    "version": 3
   },
   "file_extension": ".py",
   "mimetype": "text/x-python",
   "name": "python",
   "nbconvert_exporter": "python",
   "pygments_lexer": "ipython3",
   "version": "3.7.6"
  }
 },
 "nbformat": 4,
 "nbformat_minor": 4
}
